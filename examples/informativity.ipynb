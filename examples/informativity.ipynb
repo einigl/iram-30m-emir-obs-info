{
 "cells": [
  {
   "cell_type": "markdown",
   "metadata": {},
   "source": [
    "# Informativity of IRAM 30m EMIR observations"
   ]
  },
  {
   "cell_type": "code",
   "execution_count": null,
   "metadata": {},
   "outputs": [],
   "source": [
    "import infovar"
   ]
  },
  {
   "cell_type": "markdown",
   "metadata": {},
   "source": [
    "## Settings"
   ]
  },
  {
   "cell_type": "code",
   "execution_count": null,
   "metadata": {},
   "outputs": [],
   "source": [
    "with open(os.path.join(abspath, 'inputs.yaml'), 'r') as f:\n",
    "    inputs_dict = yaml.safe_load(f)"
   ]
  },
  {
   "cell_type": "code",
   "execution_count": null,
   "metadata": {},
   "outputs": [],
   "source": []
  },
  {
   "cell_type": "markdown",
   "metadata": {},
   "source": [
    "## Computation"
   ]
  },
  {
   "cell_type": "code",
   "execution_count": null,
   "metadata": {},
   "outputs": [],
   "source": []
  },
  {
   "cell_type": "code",
   "execution_count": null,
   "metadata": {},
   "outputs": [],
   "source": []
  },
  {
   "cell_type": "code",
   "execution_count": null,
   "metadata": {},
   "outputs": [],
   "source": [
    "for features in tqdm(feature_names):\n",
    "\n",
    "    handler.update(\n",
    "        features,\n",
    "        \"MedHouseVal\",\n",
    "        inputs_dict\n",
    "    )"
   ]
  },
  {
   "cell_type": "markdown",
   "metadata": {},
   "source": [
    "## Plots"
   ]
  },
  {
   "cell_type": "code",
   "execution_count": null,
   "metadata": {},
   "outputs": [],
   "source": [
    "plt.figure(figsize=(1*6.4, 1.2*4.8), dpi=150)\n",
    "\n",
    "plt.suptitle(\"Informativity of observation of Av\")\n",
    "\n",
    "for i, rgs in enumerate([\"all\", \"low\", \"mid\", \"high\"], 1):\n",
    "\n",
    "    entries = [\n",
    "        handler.read(v, targs, rgs) for v in feature_names\n",
    "    ]\n",
    "\n",
    "    mis = [el[\"mi\"][\"value\"] for el in entries]\n",
    "    stds = [el[\"mi\"][\"std\"] for el in entries]\n",
    "    samples = entries[0][\"samples\"]\n",
    "\n",
    "    #\n",
    "\n",
    "    xticks = list(range(len(entries)))\n",
    "\n",
    "    plt.subplot(2, 2, i)\n",
    "\n",
    "    plt.bar(xticks, mis)\n",
    "    plt.errorbar(xticks, mis, yerr=stds, fmt='none', capsize=6, color='tab:red')\n",
    "    plt.xticks(xticks, labels=feature_names, rotation=45, fontsize=8, ha='right', rotation_mode='anchor')\n",
    "\n",
    "    plt.title(f\"MedHouseVal ({rgs}) ({samples:,} samples)\", fontsize=10)\n",
    "\n",
    "plt.tight_layout()\n",
    "plt.show()"
   ]
  },
  {
   "cell_type": "code",
   "execution_count": null,
   "metadata": {},
   "outputs": [],
   "source": []
  },
  {
   "cell_type": "code",
   "execution_count": null,
   "metadata": {},
   "outputs": [],
   "source": []
  }
 ],
 "metadata": {
  "language_info": {
   "name": "python"
  }
 },
 "nbformat": 4,
 "nbformat_minor": 2
}
