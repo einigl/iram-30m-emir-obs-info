{
 "cells": [
  {
   "cell_type": "code",
   "execution_count": null,
   "metadata": {},
   "outputs": [],
   "source": [
    "from infobs.model import MeudonPDR\n",
    "\n",
    "meudonpdr = MeudonPDR(\n",
    "    kelvin=True # Set this option to False if you want intensities in erg cm-2 s-1 sr-1\n",
    ")\n",
    "\n",
    "df_params = pd.DataFrame({\n",
    "    \"Avmax\": [1, 5, 10, 15, 20],\n",
    "    \"G0\": [1e2, 1e2, 1e2, 1e2, 1e2],\n",
    "    \"P\": [1e5, 1e5, 1e5, 1e5, 1e5],\n",
    "    \"angle\": [0, 0, 0, 0, 0]\n",
    "})\n",
    "\n",
    "df_params"
   ]
  },
  {
   "cell_type": "markdown",
   "metadata": {},
   "source": [
    "*TODO: radm ou G0, kelvin ou erg, tracé de profils*"
   ]
  },
  {
   "cell_type": "code",
   "execution_count": null,
   "metadata": {},
   "outputs": [],
   "source": [
    "# Work in progress"
   ]
  }
 ],
 "metadata": {
  "language_info": {
   "name": "python"
  }
 },
 "nbformat": 4,
 "nbformat_minor": 2
}
