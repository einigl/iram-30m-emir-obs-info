{
 "cells": [
  {
   "cell_type": "markdown",
   "metadata": {},
   "source": [
    "# Meudon PDR code emulator predictions"
   ]
  },
  {
   "cell_type": "code",
   "execution_count": 13,
   "metadata": {},
   "outputs": [],
   "source": [
    "import os\n",
    "import sys\n",
    "\n",
    "import pandas as pd\n",
    "\n",
    "sys.path.insert(0, os.path.join(\"..\"))\n",
    "\n",
    "from infobs.model import MeudonPDR"
   ]
  },
  {
   "cell_type": "markdown",
   "metadata": {},
   "source": [
    "## Predictions from a grid of parameters"
   ]
  },
  {
   "cell_type": "code",
   "execution_count": 14,
   "metadata": {},
   "outputs": [],
   "source": [
    "lines = [\n",
    "    \"13c_o_j1__j0\",\n",
    "    \"13c_o_j2__j1\",\n",
    "    \"13c_o_j3__j2\"\n",
    "]"
   ]
  },
  {
   "cell_type": "markdown",
   "metadata": {},
   "source": [
    "### Grid setup"
   ]
  },
  {
   "cell_type": "code",
   "execution_count": 15,
   "metadata": {},
   "outputs": [
    {
     "data": {
      "text/html": [
       "<div>\n",
       "<style scoped>\n",
       "    .dataframe tbody tr th:only-of-type {\n",
       "        vertical-align: middle;\n",
       "    }\n",
       "\n",
       "    .dataframe tbody tr th {\n",
       "        vertical-align: top;\n",
       "    }\n",
       "\n",
       "    .dataframe thead th {\n",
       "        text-align: right;\n",
       "    }\n",
       "</style>\n",
       "<table border=\"1\" class=\"dataframe\">\n",
       "  <thead>\n",
       "    <tr style=\"text-align: right;\">\n",
       "      <th></th>\n",
       "      <th>Av</th>\n",
       "      <th>G0</th>\n",
       "      <th>Pth</th>\n",
       "      <th>angle</th>\n",
       "    </tr>\n",
       "  </thead>\n",
       "  <tbody>\n",
       "    <tr>\n",
       "      <th>0</th>\n",
       "      <td>1</td>\n",
       "      <td>100.0</td>\n",
       "      <td>100000.0</td>\n",
       "      <td>0</td>\n",
       "    </tr>\n",
       "    <tr>\n",
       "      <th>1</th>\n",
       "      <td>5</td>\n",
       "      <td>100.0</td>\n",
       "      <td>100000.0</td>\n",
       "      <td>0</td>\n",
       "    </tr>\n",
       "    <tr>\n",
       "      <th>2</th>\n",
       "      <td>10</td>\n",
       "      <td>100.0</td>\n",
       "      <td>100000.0</td>\n",
       "      <td>0</td>\n",
       "    </tr>\n",
       "    <tr>\n",
       "      <th>3</th>\n",
       "      <td>15</td>\n",
       "      <td>100.0</td>\n",
       "      <td>100000.0</td>\n",
       "      <td>0</td>\n",
       "    </tr>\n",
       "    <tr>\n",
       "      <th>4</th>\n",
       "      <td>20</td>\n",
       "      <td>100.0</td>\n",
       "      <td>100000.0</td>\n",
       "      <td>0</td>\n",
       "    </tr>\n",
       "  </tbody>\n",
       "</table>\n",
       "</div>"
      ],
      "text/plain": [
       "   Av     G0       Pth  angle\n",
       "0   1  100.0  100000.0      0\n",
       "1   5  100.0  100000.0      0\n",
       "2  10  100.0  100000.0      0\n",
       "3  15  100.0  100000.0      0\n",
       "4  20  100.0  100000.0      0"
      ]
     },
     "execution_count": 15,
     "metadata": {},
     "output_type": "execute_result"
    }
   ],
   "source": [
    "df_params = pd.DataFrame({\n",
    "    \"Av\": [1, 5, 10, 15, 20],\n",
    "    \"G0\": [1e2, 1e2, 1e2, 1e2, 1e2],\n",
    "    \"Pth\": [1e5, 1e5, 1e5, 1e5, 1e5],\n",
    "    \"angle\": [0, 0, 0, 0, 0]\n",
    "})\n",
    "\n",
    "df_params"
   ]
  },
  {
   "cell_type": "markdown",
   "metadata": {},
   "source": [
    "### Predictions of integrated line intensities"
   ]
  },
  {
   "cell_type": "code",
   "execution_count": 16,
   "metadata": {},
   "outputs": [
    {
     "data": {
      "text/html": [
       "<div>\n",
       "<style scoped>\n",
       "    .dataframe tbody tr th:only-of-type {\n",
       "        vertical-align: middle;\n",
       "    }\n",
       "\n",
       "    .dataframe tbody tr th {\n",
       "        vertical-align: top;\n",
       "    }\n",
       "\n",
       "    .dataframe thead th {\n",
       "        text-align: right;\n",
       "    }\n",
       "</style>\n",
       "<table border=\"1\" class=\"dataframe\">\n",
       "  <thead>\n",
       "    <tr style=\"text-align: right;\">\n",
       "      <th></th>\n",
       "      <th>Av</th>\n",
       "      <th>G0</th>\n",
       "      <th>Pth</th>\n",
       "      <th>angle</th>\n",
       "      <th>kappa</th>\n",
       "      <th>13c_o_j1__j0</th>\n",
       "      <th>13c_o_j2__j1</th>\n",
       "      <th>13c_o_j3__j2</th>\n",
       "    </tr>\n",
       "  </thead>\n",
       "  <tbody>\n",
       "    <tr>\n",
       "      <th>0</th>\n",
       "      <td>1.0</td>\n",
       "      <td>100.0</td>\n",
       "      <td>100000.0</td>\n",
       "      <td>0.0</td>\n",
       "      <td>1.0</td>\n",
       "      <td>0.000276</td>\n",
       "      <td>0.000318</td>\n",
       "      <td>0.000128</td>\n",
       "    </tr>\n",
       "    <tr>\n",
       "      <th>1</th>\n",
       "      <td>5.0</td>\n",
       "      <td>100.0</td>\n",
       "      <td>100000.0</td>\n",
       "      <td>0.0</td>\n",
       "      <td>1.0</td>\n",
       "      <td>10.176692</td>\n",
       "      <td>11.708745</td>\n",
       "      <td>3.919423</td>\n",
       "    </tr>\n",
       "    <tr>\n",
       "      <th>2</th>\n",
       "      <td>10.0</td>\n",
       "      <td>100.0</td>\n",
       "      <td>100000.0</td>\n",
       "      <td>0.0</td>\n",
       "      <td>1.0</td>\n",
       "      <td>22.873276</td>\n",
       "      <td>21.915024</td>\n",
       "      <td>8.102161</td>\n",
       "    </tr>\n",
       "    <tr>\n",
       "      <th>3</th>\n",
       "      <td>15.0</td>\n",
       "      <td>100.0</td>\n",
       "      <td>100000.0</td>\n",
       "      <td>0.0</td>\n",
       "      <td>1.0</td>\n",
       "      <td>29.498773</td>\n",
       "      <td>25.964494</td>\n",
       "      <td>10.321277</td>\n",
       "    </tr>\n",
       "    <tr>\n",
       "      <th>4</th>\n",
       "      <td>20.0</td>\n",
       "      <td>100.0</td>\n",
       "      <td>100000.0</td>\n",
       "      <td>0.0</td>\n",
       "      <td>1.0</td>\n",
       "      <td>34.912525</td>\n",
       "      <td>29.605632</td>\n",
       "      <td>12.635616</td>\n",
       "    </tr>\n",
       "  </tbody>\n",
       "</table>\n",
       "</div>"
      ],
      "text/plain": [
       "     Av     G0       Pth  angle  kappa  13c_o_j1__j0  13c_o_j2__j1  \\\n",
       "0   1.0  100.0  100000.0    0.0    1.0      0.000276      0.000318   \n",
       "1   5.0  100.0  100000.0    0.0    1.0     10.176692     11.708745   \n",
       "2  10.0  100.0  100000.0    0.0    1.0     22.873276     21.915024   \n",
       "3  15.0  100.0  100000.0    0.0    1.0     29.498773     25.964494   \n",
       "4  20.0  100.0  100000.0    0.0    1.0     34.912525     29.605632   \n",
       "\n",
       "   13c_o_j3__j2  \n",
       "0      0.000128  \n",
       "1      3.919423  \n",
       "2      8.102161  \n",
       "3     10.321277  \n",
       "4     12.635616  "
      ]
     },
     "execution_count": 16,
     "metadata": {},
     "output_type": "execute_result"
    }
   ],
   "source": [
    "meudonpdr = MeudonPDR()\n",
    "\n",
    "meudonpdr.predict(df_params, lines)"
   ]
  },
  {
   "cell_type": "markdown",
   "metadata": {},
   "source": [
    "### Integrated intensity unit\n",
    "\n",
    "Set the `kelvin` parameter to False if you want integrated line intensities in erg cm-2 s-1 sr-1"
   ]
  },
  {
   "cell_type": "code",
   "execution_count": 17,
   "metadata": {},
   "outputs": [
    {
     "data": {
      "text/html": [
       "<div>\n",
       "<style scoped>\n",
       "    .dataframe tbody tr th:only-of-type {\n",
       "        vertical-align: middle;\n",
       "    }\n",
       "\n",
       "    .dataframe tbody tr th {\n",
       "        vertical-align: top;\n",
       "    }\n",
       "\n",
       "    .dataframe thead th {\n",
       "        text-align: right;\n",
       "    }\n",
       "</style>\n",
       "<table border=\"1\" class=\"dataframe\">\n",
       "  <thead>\n",
       "    <tr style=\"text-align: right;\">\n",
       "      <th></th>\n",
       "      <th>Av</th>\n",
       "      <th>G0</th>\n",
       "      <th>Pth</th>\n",
       "      <th>angle</th>\n",
       "      <th>kappa</th>\n",
       "      <th>13c_o_j1__j0</th>\n",
       "      <th>13c_o_j2__j1</th>\n",
       "      <th>13c_o_j3__j2</th>\n",
       "    </tr>\n",
       "  </thead>\n",
       "  <tbody>\n",
       "    <tr>\n",
       "      <th>0</th>\n",
       "      <td>1.0</td>\n",
       "      <td>100.0</td>\n",
       "      <td>100000.0</td>\n",
       "      <td>0.0</td>\n",
       "      <td>1.0</td>\n",
       "      <td>3.785540e-13</td>\n",
       "      <td>3.483762e-12</td>\n",
       "      <td>4.746177e-12</td>\n",
       "    </tr>\n",
       "    <tr>\n",
       "      <th>1</th>\n",
       "      <td>5.0</td>\n",
       "      <td>100.0</td>\n",
       "      <td>100000.0</td>\n",
       "      <td>0.0</td>\n",
       "      <td>1.0</td>\n",
       "      <td>1.395919e-08</td>\n",
       "      <td>1.284490e-07</td>\n",
       "      <td>1.451301e-07</td>\n",
       "    </tr>\n",
       "    <tr>\n",
       "      <th>2</th>\n",
       "      <td>10.0</td>\n",
       "      <td>100.0</td>\n",
       "      <td>100000.0</td>\n",
       "      <td>0.0</td>\n",
       "      <td>1.0</td>\n",
       "      <td>3.137487e-08</td>\n",
       "      <td>2.404155e-07</td>\n",
       "      <td>3.000103e-07</td>\n",
       "    </tr>\n",
       "    <tr>\n",
       "      <th>3</th>\n",
       "      <td>15.0</td>\n",
       "      <td>100.0</td>\n",
       "      <td>100000.0</td>\n",
       "      <td>0.0</td>\n",
       "      <td>1.0</td>\n",
       "      <td>4.046295e-08</td>\n",
       "      <td>2.848396e-07</td>\n",
       "      <td>3.821807e-07</td>\n",
       "    </tr>\n",
       "    <tr>\n",
       "      <th>4</th>\n",
       "      <td>20.0</td>\n",
       "      <td>100.0</td>\n",
       "      <td>100000.0</td>\n",
       "      <td>0.0</td>\n",
       "      <td>1.0</td>\n",
       "      <td>4.788890e-08</td>\n",
       "      <td>3.247841e-07</td>\n",
       "      <td>4.678770e-07</td>\n",
       "    </tr>\n",
       "  </tbody>\n",
       "</table>\n",
       "</div>"
      ],
      "text/plain": [
       "     Av     G0       Pth  angle  kappa  13c_o_j1__j0  13c_o_j2__j1  \\\n",
       "0   1.0  100.0  100000.0    0.0    1.0  3.785540e-13  3.483762e-12   \n",
       "1   5.0  100.0  100000.0    0.0    1.0  1.395919e-08  1.284490e-07   \n",
       "2  10.0  100.0  100000.0    0.0    1.0  3.137487e-08  2.404155e-07   \n",
       "3  15.0  100.0  100000.0    0.0    1.0  4.046295e-08  2.848396e-07   \n",
       "4  20.0  100.0  100000.0    0.0    1.0  4.788890e-08  3.247841e-07   \n",
       "\n",
       "   13c_o_j3__j2  \n",
       "0  4.746177e-12  \n",
       "1  1.451301e-07  \n",
       "2  3.000103e-07  \n",
       "3  3.821807e-07  \n",
       "4  4.678770e-07  "
      ]
     },
     "execution_count": 17,
     "metadata": {},
     "output_type": "execute_result"
    }
   ],
   "source": [
    "meudonpdr = MeudonPDR(\n",
    "    kelvin=False\n",
    ")\n",
    "\n",
    "meudonpdr.predict(df_params, lines)"
   ]
  },
  {
   "cell_type": "markdown",
   "metadata": {},
   "source": [
    "### Adding a scaling parameter to integrate uncertainty on geometry"
   ]
  },
  {
   "cell_type": "code",
   "execution_count": 19,
   "metadata": {},
   "outputs": [],
   "source": [
    "# Work in progress"
   ]
  },
  {
   "cell_type": "markdown",
   "metadata": {},
   "source": [
    "## Prediction plots"
   ]
  },
  {
   "cell_type": "code",
   "execution_count": 18,
   "metadata": {},
   "outputs": [],
   "source": [
    "# Work in progress"
   ]
  }
 ],
 "metadata": {
  "language_info": {
   "name": "python"
  }
 },
 "nbformat": 4,
 "nbformat_minor": 2
}
